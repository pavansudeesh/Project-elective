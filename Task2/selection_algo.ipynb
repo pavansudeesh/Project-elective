{
  "nbformat": 4,
  "nbformat_minor": 0,
  "metadata": {
    "colab": {
      "name": "Copy of Automated_covid_detector_without selection algorithm.ipynb",
      "provenance": [],
      "collapsed_sections": []
    },
    "kernelspec": {
      "name": "python3",
      "display_name": "Python 3"
    },
    "accelerator": "GPU"
  },
  "cells": [
    {
      "cell_type": "code",
      "metadata": {
        "id": "ENtpm061mY08"
      },
      "source": [
        "#Automatic COVID detection from patient's CT scan folder\n",
        "# In this code the CT selection algorithm has not been used"
      ],
      "execution_count": null,
      "outputs": []
    },
    {
      "cell_type": "code",
      "metadata": {
        "id": "Cq6NBm56I46q"
      },
      "source": [
        "# idea from https://github.com/mr7495/COVID-CT-Code\n",
        "# developer email : mr7495@yahoo.com"
      ],
      "execution_count": null,
      "outputs": []
    },
    {
      "cell_type": "code",
      "metadata": {
        "id": "6JmhSAzXPUaX",
        "colab": {
          "base_uri": "https://localhost:8080/"
        },
        "outputId": "d077732e-77be-4ec6-d8da-0c2e39761243"
      },
      "source": [
        "!nvidia-smi #show the allocated GPU"
      ],
      "execution_count": null,
      "outputs": [
        {
          "output_type": "stream",
          "text": [
            "Sat Jul 10 22:35:17 2021       \n",
            "+-----------------------------------------------------------------------------+\n",
            "| NVIDIA-SMI 470.42.01    Driver Version: 460.32.03    CUDA Version: 11.2     |\n",
            "|-------------------------------+----------------------+----------------------+\n",
            "| GPU  Name        Persistence-M| Bus-Id        Disp.A | Volatile Uncorr. ECC |\n",
            "| Fan  Temp  Perf  Pwr:Usage/Cap|         Memory-Usage | GPU-Util  Compute M. |\n",
            "|                               |                      |               MIG M. |\n",
            "|===============================+======================+======================|\n",
            "|   0  Tesla T4            Off  | 00000000:00:04.0 Off |                    0 |\n",
            "| N/A   60C    P8    11W /  70W |      0MiB / 15109MiB |      0%      Default |\n",
            "|                               |                      |                  N/A |\n",
            "+-------------------------------+----------------------+----------------------+\n",
            "                                                                               \n",
            "+-----------------------------------------------------------------------------+\n",
            "| Processes:                                                                  |\n",
            "|  GPU   GI   CI        PID   Type   Process name                  GPU Memory |\n",
            "|        ID   ID                                                   Usage      |\n",
            "|=============================================================================|\n",
            "|  No running processes found                                                 |\n",
            "+-----------------------------------------------------------------------------+\n"
          ],
          "name": "stdout"
        }
      ]
    },
    {
      "cell_type": "code",
      "metadata": {
        "id": "5yqhPi-FS60r",
        "colab": {
          "base_uri": "https://localhost:8080/"
        },
        "outputId": "4bd2da1e-c6a6-4c8d-f9a7-3f4aef3d40ef"
      },
      "source": [
        "#Connect your Google Drive \n",
        "from google.colab import drive\n",
        "drive.mount('/content/drive')"
      ],
      "execution_count": null,
      "outputs": [
        {
          "output_type": "stream",
          "text": [
            "Mounted at /content/drive\n"
          ],
          "name": "stdout"
        }
      ]
    },
    {
      "cell_type": "code",
      "metadata": {
        "id": "7UAp6XlqPeou",
        "colab": {
          "base_uri": "https://localhost:8080/"
        },
        "outputId": "0030ba6a-d0d4-4fe7-d824-8524be85a389"
      },
      "source": [
        "#upgrade and install essential libraries\n",
        "#Install essential libraries\n",
        "!pip install git+https://github.com/mr7495/RetinaNet"
      ],
      "execution_count": null,
      "outputs": [
        {
          "output_type": "stream",
          "text": [
            "Collecting git+https://github.com/mr7495/RetinaNet\n",
            "  Cloning https://github.com/mr7495/RetinaNet to /tmp/pip-req-build-k2ekmcky\n",
            "  Running command git clone -q https://github.com/mr7495/RetinaNet /tmp/pip-req-build-k2ekmcky\n",
            "  Running command git submodule update --init --recursive -q\n",
            "Requirement already satisfied: keras in /usr/local/lib/python3.7/dist-packages (from keras-retinanet==0.5.1) (2.4.3)\n",
            "Collecting keras-resnet==0.1.0\n",
            "  Downloading https://files.pythonhosted.org/packages/05/46/ad0b2d1a05d9497bd80c98a2c3f4d8be38a4601ace69af72814f5fafd851/keras-resnet-0.1.0.tar.gz\n",
            "Requirement already satisfied: six in /usr/local/lib/python3.7/dist-packages (from keras-retinanet==0.5.1) (1.15.0)\n",
            "Requirement already satisfied: scipy in /usr/local/lib/python3.7/dist-packages (from keras-retinanet==0.5.1) (1.4.1)\n",
            "Requirement already satisfied: cython in /usr/local/lib/python3.7/dist-packages (from keras-retinanet==0.5.1) (0.29.23)\n",
            "Requirement already satisfied: Pillow in /usr/local/lib/python3.7/dist-packages (from keras-retinanet==0.5.1) (7.1.2)\n",
            "Requirement already satisfied: opencv-python in /usr/local/lib/python3.7/dist-packages (from keras-retinanet==0.5.1) (4.1.2.30)\n",
            "Requirement already satisfied: progressbar2 in /usr/local/lib/python3.7/dist-packages (from keras-retinanet==0.5.1) (3.38.0)\n",
            "Requirement already satisfied: h5py in /usr/local/lib/python3.7/dist-packages (from keras->keras-retinanet==0.5.1) (3.1.0)\n",
            "Requirement already satisfied: pyyaml in /usr/local/lib/python3.7/dist-packages (from keras->keras-retinanet==0.5.1) (3.13)\n",
            "Requirement already satisfied: numpy>=1.9.1 in /usr/local/lib/python3.7/dist-packages (from keras->keras-retinanet==0.5.1) (1.19.5)\n",
            "Requirement already satisfied: python-utils>=2.3.0 in /usr/local/lib/python3.7/dist-packages (from progressbar2->keras-retinanet==0.5.1) (2.5.6)\n",
            "Requirement already satisfied: cached-property; python_version < \"3.8\" in /usr/local/lib/python3.7/dist-packages (from h5py->keras->keras-retinanet==0.5.1) (1.5.2)\n",
            "Building wheels for collected packages: keras-retinanet, keras-resnet\n",
            "  Building wheel for keras-retinanet (setup.py) ... \u001b[?25l\u001b[?25hdone\n",
            "  Created wheel for keras-retinanet: filename=keras_retinanet-0.5.1-cp37-cp37m-linux_x86_64.whl size=181952 sha256=e9115008f7cda6337c40ff041fbf22fcf3d86c86a52adbfeab0d05996f146d29\n",
            "  Stored in directory: /tmp/pip-ephem-wheel-cache-xoi0bixc/wheels/08/6d/f5/38473102b36a5975e02e8f339fbf85bc4d1b1c7c80dc68a595\n",
            "  Building wheel for keras-resnet (setup.py) ... \u001b[?25l\u001b[?25hdone\n",
            "  Created wheel for keras-resnet: filename=keras_resnet-0.1.0-py2.py3-none-any.whl size=13345 sha256=6e192ed889051c2398d945e852d7004cca9dff5d0bcc36353039936c56c20630\n",
            "  Stored in directory: /root/.cache/pip/wheels/80/dd/ac/842235b63dddac12faa4b48ebe58b8944e8c2e57c2e38dddb6\n",
            "Successfully built keras-retinanet keras-resnet\n",
            "Installing collected packages: keras-resnet, keras-retinanet\n",
            "Successfully installed keras-resnet-0.1.0 keras-retinanet-0.5.1\n"
          ],
          "name": "stdout"
        }
      ]
    },
    {
      "cell_type": "code",
      "metadata": {
        "id": "zw0BhQ7nPihU"
      },
      "source": [
        "import keras\n",
        "import numpy as np\n",
        "import cv2\n",
        "import os\n",
        "import random\n",
        "import shutil\n",
        "import pandas as pd\n",
        "import csv\n",
        "import zipfile\n",
        "from keras import optimizers\n",
        "from keras.models import Sequential,Model\n",
        "from keras.layers import Dropout, Flatten, Dense,Input\n",
        "from keras.applications.resnet_v2 import ResNet50V2\n",
        "from keras.applications.xception import Xception\n",
        "from keras.applications.resnet50 import ResNet50\n",
        "from keras.applications.vgg16 import VGG16\n",
        "from keras.callbacks import ModelCheckpoint\n",
        "from keras.applications.imagenet_utils import preprocess_input\n",
        "from keras import backend as K\n",
        "from keras.preprocessing.image import ImageDataGenerator\n",
        "from keras.initializers import RandomNormal\n",
        "import keras.backend as k\n",
        "from sklearn.utils import shuffle\n",
        "import io\n",
        "from PIL import Image as pil_image\n",
        "from keras_retinanet import layers\n",
        "import keras.backend as k\n",
        "import keras_retinanet"
      ],
      "execution_count": null,
      "outputs": []
    },
    {
      "cell_type": "code",
      "metadata": {
        "id": "89hm-PDB0SSb"
      },
      "source": [
        "shape=(512,512,1) #shape of the dataset images (in TIFF format)"
      ],
      "execution_count": null,
      "outputs": []
    },
    {
      "cell_type": "code",
      "metadata": {
        "colab": {
          "base_uri": "https://localhost:8080/"
        },
        "id": "wD_GlZaQlFys",
        "outputId": "202c7c9a-051c-46a2-ff58-53776fb76e8f"
      },
      "source": [
        "!unzip /content/drive/MyDrive/COVID-CTset.zip -d /content/data"
      ],
      "execution_count": null,
      "outputs": [
        {
          "output_type": "stream",
          "text": [
            "Archive:  /content/drive/MyDrive/COVID-CTset.zip\n",
            "replace /content/data/COVID-CTset/covid1/patient1/SR_2/IM00001.tif? [y]es, [n]o, [A]ll, [N]one, [r]ename: "
          ],
          "name": "stdout"
        }
      ]
    },
    {
      "cell_type": "code",
      "metadata": {
        "id": "rRXGewOAMJ1q",
        "colab": {
          "base_uri": "https://localhost:8080/"
        },
        "outputId": "42f93793-73a1-4aaa-a2a2-b20899219cab"
      },
      "source": [
        "#The fully automated patient classification network\n",
        "Path='/content/drive/MyDrive/trained_networks/FPN-fold1.hdf5' # You can use this trained model : 'drive/My Drive/COVID-CTset/trained_networks/FPN-fold1.hdf5'\n",
        "data_path= '/content/data/COVID-CTset/covid1/patient1/SR_2/'  #path to the folder containing patient's CT scan images\n",
        "\n",
        "selected_imgs_path=[]\n",
        "for r,d,f in os.walk(data_path): \n",
        "  for file in f:\n",
        "    if '.tif' in file:\n",
        "      selected_imgs_path.append(os.path.join(r,file)) #get the images path from the data_folder\n",
        "\n",
        "k.clear_session() #clear keras backend\n",
        "custom_object={'UpsampleLike': keras_retinanet.layers._misc.UpsampleLike} #Upsampling layer that was used in feature pyramid network\n",
        "net=keras.models.load_model(Path, custom_objects=custom_object)\n",
        "\n",
        "\n",
        "covid_label=0 # index of COVID-19 class \n",
        "normal_label=1  # index of normal class \n",
        "normal_predicted=0\n",
        "covid_predicted=0\n",
        "for img_name in selected_imgs_path: #read images\n",
        "  img=cv2.imread(img_name,cv2.IMREAD_UNCHANGED)\n",
        "  pred_ind=np.argmax(net.predict(np.expand_dims(np.expand_dims(img,axis=0),axis=3))[0]) #predicted label\n",
        "  if pred_ind==normal_label:\n",
        "    normal_predicted+=1\n",
        "  else:\n",
        "    covid_predicted+=1\n",
        "\n",
        "all_imgs_num=len(selected_imgs_path) \n",
        "if covid_predicted>=0.1*all_imgs_num: #if at least 10% of a patient CT scans be classified as covid\n",
        "  print('The patient is identified as infected to COVID-19')\n",
        "else:\n",
        "  print('The patient is identified as normal')"
      ],
      "execution_count": null,
      "outputs": [
        {
          "output_type": "stream",
          "text": [
            "The patient is identified as infected to COVID-19\n"
          ],
          "name": "stdout"
        }
      ]
    },
    {
      "cell_type": "code",
      "metadata": {
        "colab": {
          "base_uri": "https://localhost:8080/"
        },
        "id": "UzMGElPLom90",
        "outputId": "04bab6cf-3f03-40c0-bcf7-4dbcd0739ec2"
      },
      "source": [
        "print(all_imgs_num)\n",
        "print(covid_predicted)"
      ],
      "execution_count": null,
      "outputs": [
        {
          "output_type": "stream",
          "text": [
            "35\n",
            "19\n"
          ],
          "name": "stdout"
        }
      ]
    }
  ]
}